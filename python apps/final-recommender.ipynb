{
 "cells": [
  {
   "cell_type": "code",
   "execution_count": 1,
   "metadata": {},
   "outputs": [],
   "source": [
    "# Importing dependencies\n",
    "import pandas as pd\n",
    "from sklearn.preprocessing import StandardScaler, MinMaxScaler, normalize\n",
    "from sklearn.cluster import KMeans\n",
    "from sklearn.decomposition import PCA\n",
    "import matplotlib.pyplot as plt\n",
    "import numpy as np\n",
    "import json\n",
    "\n",
    "import warnings\n",
    "warnings.filterwarnings('ignore')"
   ]
  },
  {
   "cell_type": "code",
   "execution_count": 2,
   "metadata": {},
   "outputs": [],
   "source": [
    "# Defining a function to check if there are any non-dict elements in a list\n",
    "def checkType(a_list):\n",
    "    types = [0, 0, 0]\n",
    "    indexes = []\n",
    "    for element in a_list:\n",
    "        if isinstance(element, dict):\n",
    "            types[0] += 1\n",
    "        else:\n",
    "            types[1] += 1\n",
    "            indexes.append(a_list.index(element))\n",
    "            types[2] = indexes\n",
    "    return types\n",
    "\n",
    "# Defining a function for the euclidean distance between two points\n",
    "def distance(x1, x2):\n",
    "    d = np.sqrt(pow((x2[1] - x1[1]), 2) - pow((x2[0] - x1[0]), 2))\n",
    "    return d\n",
    "\n",
    "# Defining a function that calculates the average co-ordinates\n",
    "def averagePoint(arr):\n",
    "    x = 0\n",
    "    y = 0\n",
    "    count = 0\n",
    "    for i in arr:\n",
    "        x += i[0]\n",
    "        y += i[1]\n",
    "        count += 1\n",
    "    \n",
    "    x = x / count\n",
    "    y = y / count\n",
    "    \n",
    "    return [x, y]\n",
    "\n",
    "# Defining a function to convert strings to Json objects / dictionaries\n",
    "def stringtoJson(a):\n",
    "    result = None\n",
    "    \n",
    "    try:\n",
    "        if len(a) > 3:\n",
    "            result = json.loads(a.replace(\"'\", \"\\\"\"))\n",
    "        else:\n",
    "            result = \" \"\n",
    "    except:\n",
    "        result = \" \"\n",
    "    \n",
    "    return result\n",
    "\n",
    "def findRating(arr):\n",
    "    max_rating = 0\n",
    "    best_title = \"\"\n",
    "\n",
    "    for i in arr:\n",
    "        if (list(r.loc[r['title'] == str(i)]['rating'])[0]) > max_rating:\n",
    "            max_rating = list(r.loc[r['title'] == str(i)]['rating'])[0]\n",
    "            best_title = list(r.loc[r['title'] == str(i)]['title'])[0]\n",
    "\n",
    "    return best_title\n",
    "\n",
    "def findPCA(string):\n",
    "    a = d['title'].loc[d['title'] == string].index[0]\n",
    "    b = list(pca_df.iloc[a, :].values)\n",
    "\n",
    "    return b"
   ]
  },
  {
   "cell_type": "code",
   "execution_count": 3,
   "metadata": {},
   "outputs": [],
   "source": [
    "# Creating the class which is used to make the recommendations\n",
    "class steamPredictor:\n",
    "    \"\"\"\n",
    "    requirements:\n",
    "    - averagePoint & distance functions\n",
    "    - pca_df which includes two dimension\n",
    "    - y which is a pandas series of game titles\n",
    "    - r which is a df containing the rating of each game\n",
    "    \"\"\"\n",
    "    def __init__(self):\n",
    "        self = self\n",
    "    \n",
    "    def prediction(self, inputs):  \n",
    "        a, b, c = inputs # strings\n",
    "        \n",
    "        a = findPCA(a) \n",
    "        b = findPCA(b) # PCA values\n",
    "        c = findPCA(c) \n",
    "        \n",
    "        games = [a, b, c]\n",
    "        results = []\n",
    "        \n",
    "        for game in games:\n",
    "            minimum = 1000\n",
    "            tracker = 1\n",
    "            for i in range(0, len(d)):\n",
    "                x2 = pca_df.iloc[i, :2]\n",
    "                a = distance(game, x2)\n",
    "                if a > 0 and a < minimum:\n",
    "                    minimum = a\n",
    "                    tracker = i\n",
    "            if y['title'][tracker] not in inputs:\n",
    "                results.append(y['title'][tracker])\n",
    "        \n",
    "        best_fit = findRating(results)\n",
    "        \n",
    "        return best_fit"
   ]
  },
  {
   "cell_type": "code",
   "execution_count": 4,
   "metadata": {},
   "outputs": [],
   "source": [
    "# Reading the data source\n",
    "df = pd.read_csv('../resources/game_data.csv')\n",
    "\n",
    "# Creating a new column of dictionaries\n",
    "df['dictionaries'] = df['tags'].apply(lambda x: stringtoJson(x))\n",
    "\n",
    "tags = df.loc[df['dictionaries'] != \" \"]['dictionaries'].to_list()\n",
    "missed = df.loc[df['dictionaries'] == \" \"].index.to_list()"
   ]
  },
  {
   "cell_type": "code",
   "execution_count": 5,
   "metadata": {},
   "outputs": [],
   "source": [
    "# Creating a dataframe from the dictionaries\n",
    "d = pd.DataFrame(tags)"
   ]
  },
  {
   "cell_type": "code",
   "execution_count": 6,
   "metadata": {},
   "outputs": [],
   "source": [
    "# Creating a pandas series of game titles\n",
    "y = df['name']"
   ]
  },
  {
   "cell_type": "code",
   "execution_count": 7,
   "metadata": {},
   "outputs": [],
   "source": [
    "# Creating a list of game titles\n",
    "names = list(y)\n",
    "\n",
    "# Removing the elements which had missing tag information\n",
    "for index in sorted(missed, reverse=True):\n",
    "    del names[index]\n",
    "    \n",
    "# Adding a new column to the df\n",
    "d['title'] = names\n",
    "\n",
    "d.fillna(0, inplace=True)"
   ]
  },
  {
   "cell_type": "code",
   "execution_count": 8,
   "metadata": {},
   "outputs": [],
   "source": [
    "# Finding the summary statistics of the data\n",
    "info_df = d.describe()\n",
    "\n",
    "# Removing the features which received no more than 7500 votes for any particular game\n",
    "to_drop = [c for c in info_df.columns if info_df[c]['max'] < 7500]\n",
    "\n",
    "# Removing the unwanted features\n",
    "d.drop(to_drop, axis=1, inplace=True)"
   ]
  },
  {
   "cell_type": "code",
   "execution_count": 9,
   "metadata": {},
   "outputs": [],
   "source": [
    "# Creating a test df containing only numeric features\n",
    "test_df = d.drop('title', axis=1)\n",
    "\n",
    "# Adding a sum of each row column\n",
    "test_df['sum'] = test_df.iloc[:, :-1].sum(axis=1)"
   ]
  },
  {
   "cell_type": "code",
   "execution_count": 10,
   "metadata": {},
   "outputs": [],
   "source": [
    "# Finding any games with no values remaining (due to feature selection)\n",
    "to_drop = []\n",
    "\n",
    "for index, row in test_df.loc[test_df['sum'] == 0].iterrows():\n",
    "    to_drop.append(index)\n",
    "    \n",
    "d.drop(d.index[to_drop], inplace=True)\n",
    "\n",
    "# Defining the X and y variables for the model\n",
    "X = d.drop('title', axis=1)\n",
    "y = d[['title']]"
   ]
  },
  {
   "cell_type": "code",
   "execution_count": 11,
   "metadata": {},
   "outputs": [],
   "source": [
    "# Creating a standard scaler and transforming the data\n",
    "scaler = StandardScaler()\n",
    "X_scaled = scaler.fit_transform(X)\n",
    "X_scaled.shape\n",
    "\n",
    "# Performing PCA on the features\n",
    "pca = PCA(n_components = 2)\n",
    "principal_comp = pca.fit_transform(X_scaled)\n",
    "\n",
    "# Creating a dataframe with the PCA data\n",
    "pca_df = pd.DataFrame(data = principal_comp, columns = [\"pca1\", \"pca2\"])"
   ]
  },
  {
   "cell_type": "code",
   "execution_count": 12,
   "metadata": {},
   "outputs": [],
   "source": [
    "r = df[['name', 'positive', 'negative']]\n",
    "\n",
    "r.columns = ['title', 'positive', 'negative']\n",
    "r['rating'] = r['positive'] / (r['positive'] + r['negative'])"
   ]
  },
  {
   "cell_type": "code",
   "execution_count": 13,
   "metadata": {},
   "outputs": [],
   "source": [
    "model = steamPredictor()"
   ]
  },
  {
   "cell_type": "code",
   "execution_count": 15,
   "metadata": {},
   "outputs": [
    {
     "data": {
      "text/plain": [
       "'Euro Truck Simulator 2'"
      ]
     },
     "execution_count": 15,
     "metadata": {},
     "output_type": "execute_result"
    }
   ],
   "source": [
    "z = [\"XCOM 2\", \"Dota 2\", \"Unturned\"]\n",
    "model.prediction(z)"
   ]
  },
  {
   "cell_type": "code",
   "execution_count": null,
   "metadata": {},
   "outputs": [],
   "source": []
  }
 ],
 "metadata": {
  "kernelspec": {
   "display_name": "Python 3",
   "language": "python",
   "name": "python3"
  },
  "language_info": {
   "codemirror_mode": {
    "name": "ipython",
    "version": 3
   },
   "file_extension": ".py",
   "mimetype": "text/x-python",
   "name": "python",
   "nbconvert_exporter": "python",
   "pygments_lexer": "ipython3",
   "version": "3.8.3"
  }
 },
 "nbformat": 4,
 "nbformat_minor": 4
}
